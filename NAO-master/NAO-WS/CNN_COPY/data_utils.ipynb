{
 "cells": [
  {
   "cell_type": "markdown",
   "metadata": {},
   "source": [
    "该文件是用来存储读取模块的函数的"
   ]
  },
  {
   "cell_type": "code",
   "execution_count": 1,
   "metadata": {},
   "outputs": [],
   "source": [
    "import os\n",
    "import sys\n",
    "import pickle\n",
    "import numpy as np\n",
    "import tensorflow as tf"
   ]
  },
  {
   "cell_type": "markdown",
   "metadata": {},
   "source": [
    "从给定的路径data_path中读取文件，读取文件的文件名存储在train_files中。返回images和labels，images的size为 NHWC，labels的size为N\n",
    "\n",
    "读入的images里面各个分量都除以了255，故而所有分量都在0-1之间"
   ]
  },
  {
   "cell_type": "code",
   "execution_count": 2,
   "metadata": {},
   "outputs": [],
   "source": [
    "def _read_data(data_path,train_files):\n",
    "    images, labels = [],[]\n",
    "    for file_name in train_files:\n",
    "        tf.logging.info(file_name)\n",
    "        full_name = os.path.join(data_path,file_name)\n",
    "        with open(full_name,'rb') as finp:\n",
    "            data = pickle.load(finp)\n",
    "            batch_images = data[b\"data\"].astype(np.float32)/255.0\n",
    "            batch_labels = np.array(data[b\"labels\"],dtype = np.int32)\n",
    "            images.append(batch_images)\n",
    "            labels.append(batch_labels)\n",
    "    images = np.concatenate(images,axis = 0)\n",
    "    labels = np.concatenate(labels,axis = 0)\n",
    "    images = np.reshape(images,[-1,3,32,32])\n",
    "    images = np.transpose(images,[0,2,3,1])\n",
    "    \n",
    "    return images,labels"
   ]
  },
  {
   "cell_type": "markdown",
   "metadata": {},
   "source": [
    "给定数据所在的文件夹，从里面读数据，文件夹下有8个文件\n",
    "\n",
    "batches.meta\n",
    "\n",
    "data_batch_1\n",
    "\n",
    "data_batch_2\n",
    "\n",
    "data_batch_3\n",
    "\n",
    "data_batch_4\n",
    "\n",
    "data_batch_5\n",
    "\n",
    "readme.html\n",
    "\n",
    "test_batch\n",
    "\n",
    "先将所有的训练数据（包括验证集）通过——read——data读进来，然后根据num_valids来构造训练集与验证集\n",
    "\n",
    "构造训练集和验证集的时候，对于所有的images中的数据，都作了一个归一化的处理"
   ]
  },
  {
   "cell_type": "code",
   "execution_count": 3,
   "metadata": {},
   "outputs": [],
   "source": [
    "def read_data(data_path,num_valids = 5000):\n",
    "    tf.logging.info(\"-\"*80)\n",
    "    tf.logging.info(\"Reading data\")\n",
    "    \n",
    "    images,labels = {},{}\n",
    "    \n",
    "    train_files = [\n",
    "        \"data_batch_1\",\n",
    "        \"data_batch_2\",\n",
    "        \"data_batch_3\",\n",
    "        \"data_batch_4\",\n",
    "        \"data_batch_5\",\n",
    "    ]\n",
    "    \n",
    "    test_file = [\n",
    "        \"test_batch\",\n",
    "    ]\n",
    "    \n",
    "    images[\"train\"],labels[\"train\"] = _read_data(data_path,train_files)\n",
    "    \n",
    "    if num_valids:\n",
    "        images[\"valid\"] = images[\"train\"][-num_valids:]\n",
    "        labels[\"valid\"] = labels[\"train\"][-num_valids:]\n",
    "        \n",
    "        images[\"train\"] = images[\"train\"][:-num_valids]\n",
    "        labels[\"train\"] = labels[\"train\"][:-num_valids]\n",
    "    else:\n",
    "        images[\"valid\"],labels[\"valid\"] = None,None\n",
    "    \n",
    "    images[\"test\"],labels[\"test\"] = _read_data(data_path,test_file)\n",
    "    \n",
    "    tf.logging.info(\"Preprocess: [substract mean], [divide std]\")\n",
    "    \n",
    "    mean = np.mean(images[\"train\"],axis=(0,1,2),keepdims = True)\n",
    "    std = np.std(images[\"train\"],axis=(0,1,2),keepdims = True)\n",
    "    \n",
    "    tf.logging.info(\"mean: {}\".format(np.reshape(mean * 255.0,[-1])))\n",
    "    tf.logging.info(\"std: {}\".format(np.reshape(std * 255.0,[-1])))\n",
    "    \n",
    "    images[\"train\"] = (images[\"train\"] - mean)/std\n",
    "    if num_valids:\n",
    "        images[\"valid\"] = (images[\"valid\"] - mean) /std\n",
    "    images[\"test\"] = (images[\"test\"] -mean)/std\n",
    "    \n",
    "    return images,labels"
   ]
  },
  {
   "cell_type": "code",
   "execution_count": null,
   "metadata": {},
   "outputs": [],
   "source": []
  }
 ],
 "metadata": {
  "kernelspec": {
   "display_name": "Python 2",
   "language": "python",
   "name": "python2"
  },
  "language_info": {
   "codemirror_mode": {
    "name": "ipython",
    "version": 2
   },
   "file_extension": ".py",
   "mimetype": "text/x-python",
   "name": "python",
   "nbconvert_exporter": "python",
   "pygments_lexer": "ipython2",
   "version": "2.7.12"
  }
 },
 "nbformat": 4,
 "nbformat_minor": 2
}
